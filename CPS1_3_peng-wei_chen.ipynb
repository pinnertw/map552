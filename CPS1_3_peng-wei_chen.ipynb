{
 "cells": [
  {
   "cell_type": "code",
   "execution_count": 1,
   "metadata": {},
   "outputs": [],
   "source": [
    "import numpy as np"
   ]
  },
  {
   "cell_type": "code",
   "execution_count": 2,
   "metadata": {},
   "outputs": [],
   "source": [
    "T = 2\n",
    "M = 1000"
   ]
  },
  {
   "cell_type": "code",
   "execution_count": 42,
   "metadata": {},
   "outputs": [],
   "source": [
    "n = 100\n",
    "\n",
    "def question_1(n, show_mean = True):\n",
    "    W_n = (np.random.normal(size=(M, n + 1)) * np.sqrt(T / n))\n",
    "    W_n[:, 0] = 0 # W_0 = 0 for all samples\n",
    "    W_n = W_n.cumsum(axis=1)\n",
    "    print(W_n)\n",
    "\n",
    "    DeltaW_n = W_n[:, 1:] - W_n[:, :-1]\n",
    "\n",
    "    I_n = (W_n[:, :-1] * DeltaW_n).sum(axis=1)\n",
    "    J_n = (W_n[:, 1:] * DeltaW_n).sum(axis=1)\n",
    "    K_n = (((W_n[:, 1:] + W_n[:, :-1]) / 2) * DeltaW_n).sum(axis=1)\n",
    "\n",
    "    first_sample = W_n[:, -1] ** 2 / 2 - I_n\n",
    "    second_sample = W_n[:, -1] ** 2 / 2 - J_n\n",
    "    third_sample = W_n[:, -1] ** 2 / 2 - K_n\n",
    "    if show_mean:\n",
    "        print(\"First sample mean :\",first_sample.mean())\n",
    "        print(\"Second sample mean :\",second_sample.mean())\n",
    "        print(\"Third sample mean :\",third_sample.mean())\n",
    "    return first_sample, second_sample, third_sample"
   ]
  },
  {
   "cell_type": "code",
   "execution_count": 47,
   "metadata": {},
   "outputs": [
    {
     "name": "stdout",
     "output_type": "stream",
     "text": [
      "[[ 0.          0.09599242 -0.06782052 ...  0.71197574  0.97831011\n",
      "   1.13750982]\n",
      " [ 0.         -0.09095342 -0.13742696 ...  0.53539486  0.16338024\n",
      "   0.01262098]\n",
      " [ 0.         -0.24542209 -0.0090894  ... -1.92518709 -2.16520972\n",
      "  -2.24722505]\n",
      " ...\n",
      " [ 0.         -0.36638443 -0.56610153 ... -1.24297166 -0.70234918\n",
      "  -0.35360839]\n",
      " [ 0.         -0.72270798 -0.26438598 ...  1.4405647   1.57351363\n",
      "   1.51751859]\n",
      " [ 0.          0.05821191 -0.64443083 ... -0.22617357 -0.7155274\n",
      "  -0.82746378]]\n",
      "First sample mean : 0.9833367905502695\n",
      "Second sample mean : -0.9833367905502696\n",
      "Third sample mean : -1.6291071932170417e-17\n"
     ]
    }
   ],
   "source": [
    "first_sample, second_sample, third_sample = question_1(10)"
   ]
  },
  {
   "cell_type": "code",
   "execution_count": 44,
   "metadata": {},
   "outputs": [],
   "source": [
    "means_first = []\n",
    "means_second = []\n",
    "means_third = []\n",
    "confidence_intervals_length = []\n",
    "for n in range(10, 21):\n",
    "    first_sample"
   ]
  },
  {
   "cell_type": "code",
   "execution_count": null,
   "metadata": {},
   "outputs": [],
   "source": []
  }
 ],
 "metadata": {
  "kernelspec": {
   "display_name": "Python 3",
   "language": "python",
   "name": "python3"
  },
  "language_info": {
   "codemirror_mode": {
    "name": "ipython",
    "version": 3
   },
   "file_extension": ".py",
   "mimetype": "text/x-python",
   "name": "python",
   "nbconvert_exporter": "python",
   "pygments_lexer": "ipython3",
   "version": "3.8.6"
  }
 },
 "nbformat": 4,
 "nbformat_minor": 4
}
