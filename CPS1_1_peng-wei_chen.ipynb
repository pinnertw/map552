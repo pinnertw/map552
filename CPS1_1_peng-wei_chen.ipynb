{
 "cells": [
  {
   "cell_type": "markdown",
   "metadata": {},
   "source": [
    "# Computer Problem Set 1.1\n",
    "## The Cox-Ross-Rubinstein model"
   ]
  },
  {
   "cell_type": "markdown",
   "metadata": {},
   "source": [
    "### Question 1"
   ]
  },
  {
   "cell_type": "markdown",
   "metadata": {},
   "source": [
    "#### (a)\n",
    "We simply return the vector using the formula given in the question :"
   ]
  },
  {
   "cell_type": "code",
   "execution_count": 1,
   "metadata": {},
   "outputs": [],
   "source": [
    "import numpy as np\n",
    "from math import sqrt, exp\n",
    "\n",
    "# We define the value of S0 here, where we use it as a global variable.\n",
    "# We will change it if necessary.\n",
    "S0 = 1\n",
    "\n",
    "def Sn(T, n, b, sigma, j):\n",
    "    # Define u_n, d_n, h_n\n",
    "    h_n = T / n\n",
    "    u_n = exp(b * h_n + sigma * sqrt(h_n))\n",
    "    d_n = exp(b * h_n - sigma * sqrt(h_n))\n",
    "    \n",
    "    # Calculate S_n, which is S_0 * u ** (j - i) * d ** (i) for i = 0,...,j\n",
    "    S_n = np.zeros(j + 1)\n",
    "    for i in range(j+1):\n",
    "        S_n[i] = S0 * u_n ** (j - i) * d_n ** i\n",
    "    return S_n"
   ]
  },
  {
   "cell_type": "markdown",
   "metadata": {},
   "source": [
    "#### (b)\n",
    "We use the possible prices at time $t = T$, where we decide to exercise the option with the strike $K$ when the value is greater than $K$."
   ]
  },
  {
   "cell_type": "code",
   "execution_count": 2,
   "metadata": {},
   "outputs": [],
   "source": [
    "def Payoffn(T, n, b, sigma, K):\n",
    "    possible_prices = Sn(T, n, b, sigma, n)               # At time = T, so j = n\n",
    "    payoff = (possible_prices - K) * (possible_prices > K) # We take the (S_n(i) - K)+ for the payoff\n",
    "                                                          # vector of europeen call option\n",
    "    return payoff"
   ]
  },
  {
   "cell_type": "markdown",
   "metadata": {},
   "source": [
    "#### (c)\n",
    "We use the formula in section 2.3 :\n",
    "$$\n",
    "price\\_call = e^{-rT}\\sum_{j = 0}^{n}g(S^n(j))C^{n - j}_nq^{n - j}_n(1-q_n)^{j}\n",
    "$$\n",
    "where $g(s) = (s - K)^+$, $C^j_n$ is the combinatory number, $q_n = \\frac{e^r - d}{u - d}$.\n",
    "\n",
    "In generally speaking, it is the actuel value of the expectation of the payoff."
   ]
  },
  {
   "cell_type": "code",
   "execution_count": 3,
   "metadata": {},
   "outputs": [],
   "source": [
    "def Calln(T, n, r, b, sigma, K):\n",
    "    # Define q\n",
    "    h = T / n\n",
    "    u = exp(b * h + sigma * sqrt(h))\n",
    "    d = exp(b * h - sigma * sqrt(h))\n",
    "    q = (exp(r * T / n) - d) / (u - d)\n",
    "    \n",
    "    # The vector of g\n",
    "    vector_g = Payoffn(T, n, b, sigma, K)\n",
    "    \n",
    "    # Init price with 0\n",
    "    price = 0\n",
    "    \n",
    "    # Calculate the sum\n",
    "    for j in range(n, -1, -1):\n",
    "        # We update the comb_nb, then apply the formula.\n",
    "        if j == n:\n",
    "            comb_nb = 1\n",
    "        else:\n",
    "            comb_nb *= (j + 1)\n",
    "            comb_nb //= (n - j)\n",
    "        price += vector_g[j] * comb_nb * (q ** (n - j)) * ((1 - q) ** j)\n",
    "        \n",
    "    price *= exp(-r * T) # The factor before the sum\n",
    "    return price"
   ]
  },
  {
   "cell_type": "markdown",
   "metadata": {},
   "source": [
    "#### (d)\n",
    "We use this time the formula :\n",
    "$$\n",
    "\\theta^n_j(\\omega_j) = \\frac{B^n_{j+1}(\\omega_j, u) - B^n_{j+1}(\\omega_j, d)}{uS^n_j(\\omega_j) - dS^n_j(\\omega_j)}\n",
    "$$\n",
    "where $B^n_{j+1}(\\omega_j, u) = g\\left(uS^n_{j}(\\omega_j)\\right)$, $B^n_{j+1}(\\omega_j, d) = g\\left(dS^n_{j}(\\omega_j)\\right)$\n",
    "\n",
    "We know that $B^n_n$ is equal to the payoff. We are going to calculate it by descending to the root."
   ]
  },
  {
   "cell_type": "code",
   "execution_count": 4,
   "metadata": {},
   "outputs": [],
   "source": [
    "def Deltan(T, n, r, b, sigma, K, j):\n",
    "    # Define the interest rate R and the q the value of (R - d)/(u - d)\n",
    "    R = exp(r * T / n)\n",
    "    h = T / n\n",
    "    u = exp(b * h + sigma * sqrt(h))\n",
    "    d = exp(b * h - sigma * sqrt(h))\n",
    "    q = (exp(r * T / n) - d) / (u - d)\n",
    "\n",
    "    # The payoff at stats n\n",
    "    index = n\n",
    "    B_index = Payoffn(T, n, b, sigma, K)\n",
    "\n",
    "    while index != j + 1:\n",
    "        index -= 1\n",
    "        # The asset value : S^n_j\n",
    "        S_n = Sn(T, n, b, sigma, index)\n",
    "        # We are going to calculate the B at level index\n",
    "        B_index = B_index[:-1] * q / R + B_index[1:] * (1 - q) / R\n",
    "        \n",
    "        # After a cycle, we get B_index the vector of payoff at moment index\n",
    "    \n",
    "    # After \"while\", we get B_index the payoff at moment j + 1\n",
    "\n",
    "    S_j = Sn(T, n, b, sigma, j)\n",
    "    theta_j = (B_index[:-1] - B_index[1:]) / ((u - d) * S_j)\n",
    "\n",
    "    return theta_j"
   ]
  },
  {
   "cell_type": "markdown",
   "metadata": {},
   "source": [
    "#### (e)\n",
    "We first print the Calln in fonction of K"
   ]
  },
  {
   "cell_type": "code",
   "execution_count": 5,
   "metadata": {},
   "outputs": [
    {
     "data": {
      "image/png": "[encoded data removed]",
      "text/plain": [
       "<Figure size 432x288 with 1 Axes>"
      ]
     },
     "metadata": {
      "needs_background": "light"
     },
     "output_type": "display_data"
    }
   ],
   "source": [
    "import matplotlib.pyplot as plt\n",
    "# Initiation\n",
    "T = 2\n",
    "n = 50\n",
    "r = 0.05\n",
    "b = 0.05\n",
    "sigma = 0.3\n",
    "S0 = 100\n",
    "\n",
    "# Calln values\n",
    "call_list = [Calln(T, n, r, b, sigma, K) for K in range(80, 121)]\n",
    "\n",
    "# Plot\n",
    "plt.plot([K for K in range(80, 121)], call_list, label=\"Call\")\n",
    "plt.legend(loc=\"best\")\n",
    "plt.xlabel(\"K\")\n",
    "plt.ylabel(\"Call value\")\n",
    "plt.title(\"Call price with discretisation\")\n",
    "plt.show()"
   ]
  },
  {
   "cell_type": "markdown",
   "metadata": {},
   "source": [
    "We can see that\n",
    "* Call is a convex fonction of K\n",
    "* Call is decreasing in K\n",
    "\n",
    "We than print the Deltan in fonction of K"
   ]
  },
  {
   "cell_type": "code",
   "execution_count": 6,
   "metadata": {},
   "outputs": [
    {
     "data": {
      "image/png": "[encoded data removed]",
      "text/plain": [
       "<Figure size 432x288 with 1 Axes>"
      ]
     },
     "metadata": {
      "needs_background": "light"
     },
     "output_type": "display_data"
    }
   ],
   "source": [
    "# Deltan values\n",
    "delta_list = [Deltan(T, n, r, b, sigma, K, 0) for K in range(80, 121)]\n",
    "# Plot\n",
    "plt.plot([K for K in range(80,121)], delta_list, label=\"Deltan at j = 0\")\n",
    "plt.legend(loc=\"best\")\n",
    "plt.xlabel(\"K\")\n",
    "plt.ylabel(\"delta value at j = 0\")\n",
    "plt.title(\"The proportion of asset to invest in the risky asset\")\n",
    "plt.show()"
   ]
  },
  {
   "cell_type": "markdown",
   "metadata": {},
   "source": [
    "We found out that :\n",
    "\n",
    "The proportion of asset to invest in the risky asset S is decreasing to K (Almost linearly)"
   ]
  },
  {
   "cell_type": "markdown",
   "metadata": {},
   "source": [
    "### Question 2"
   ]
  },
  {
   "cell_type": "markdown",
   "metadata": {},
   "source": [
    "#### (a)\n",
    "By the theorem 2.8, we have\n",
    "$$\n",
    "p(B) = sN\\left(d_+(s, \\tilde{K}, \\sigma^2T)\\right) - \\tilde{K}N\\left(d_-(s, \\tilde{K}, \\sigma^2T)\\right)\n",
    "$$\n",
    "where \n",
    "$$\n",
    "\\tilde{K} = Ke^{-rT}, d_{\\pm}(s, k, v) = \\frac{ln(s/k)}{\\sqrt{v}} \\pm \\frac{\\sqrt{v}}{2}\n",
    "$$\n",
    "and\n",
    "N(x) is the cumulative distribution function of standard Gaussian $N(0, 1)$."
   ]
  },
  {
   "cell_type": "code",
   "execution_count": 7,
   "metadata": {},
   "outputs": [],
   "source": [
    "from scipy.stats import norm\n",
    "from math import log\n",
    "\n",
    "def Call(T, r, sigma, K):\n",
    "    K_tilde = K * exp(-r * T)\n",
    "    sqrtsigma2T = sigma * sqrt(T)\n",
    "    price = S0 * norm.cdf(log(S0 / K_tilde) / sqrtsigma2T + sqrtsigma2T / 2)\n",
    "    price -= K_tilde * norm.cdf(log(S0 / K_tilde) / sqrtsigma2T - sqrtsigma2T / 2)\n",
    "    return price"
   ]
  },
  {
   "cell_type": "markdown",
   "metadata": {},
   "source": [
    "#### (b)\n",
    "We first imlement the function of *err*."
   ]
  },
  {
   "cell_type": "code",
   "execution_count": 8,
   "metadata": {},
   "outputs": [],
   "source": [
    "def err(T, n, r, b, sigma, K):\n",
    "    return Calln(T, n, r, b, sigma, K) / Call(T, r, sigma, K) - 1"
   ]
  },
  {
   "cell_type": "markdown",
   "metadata": {},
   "source": [
    "Then, we plot the relatif error in terms of the number of periods n with strike $K = 105$."
   ]
  },
  {
   "cell_type": "code",
   "execution_count": 9,
   "metadata": {},
   "outputs": [
    {
     "data": {
      "image/png": "[encoded data removed]",
      "text/plain": [
       "<Figure size 432x288 with 1 Axes>"
      ]
     },
     "metadata": {
      "needs_background": "light"
     },
     "output_type": "display_data"
    },
    {
     "data": {
      "image/png": "[encoded data removed]",
      "text/plain": [
       "<Figure size 432x288 with 1 Axes>"
      ]
     },
     "metadata": {
      "needs_background": "light"
     },
     "output_type": "display_data"
    }
   ],
   "source": [
    "K = 105\n",
    "upper_bound = 1000\n",
    "err_list = []\n",
    "for n in range(1, upper_bound):\n",
    "    err_list.append(err(T, n, r, b, sigma, K))\n",
    "\n",
    "# First plot\n",
    "plt.figure()\n",
    "plt.plot([i for i in range(1, upper_bound)], err_list, label=\"err\")\n",
    "\n",
    "plt.xlabel(\"n\")\n",
    "plt.ylabel(\"err\")\n",
    "plt.legend(loc=\"best\")\n",
    "plt.title(\"relative error in terms of the number of periods n\")\n",
    "plt.show()\n",
    "\n",
    "# Plot : zoom in to y = -0.005 to y = 0.005\n",
    "plt.figure()\n",
    "plt.plot([i for i in range(1, upper_bound)], err_list, label=\"err\")\n",
    "plt.ylim(-0.005, 0.005)\n",
    "\n",
    "plt.xlabel(\"n\")\n",
    "plt.ylabel(\"err\")\n",
    "plt.legend(loc=\"best\")\n",
    "plt.title(\"relative error in terms of the number of periods n (zoom into y in (-0.005, 0.005))\")\n",
    "plt.show()"
   ]
  },
  {
   "cell_type": "markdown",
   "metadata": {},
   "source": [
    "We found out that the value tends to 0. The Cox-Ross-Rubinstein price coincides with the Black-Scholes formula when n is greater."
   ]
  }
 ],
 "metadata": {
  "kernelspec": {
   "display_name": "Python 3",
   "language": "python",
   "name": "python3"
  },
  "language_info": {
   "codemirror_mode": {
    "name": "ipython",
    "version": 3
   },
   "file_extension": ".py",
   "mimetype": "text/x-python",
   "name": "python",
   "nbconvert_exporter": "python",
   "pygments_lexer": "ipython3",
   "version": "3.8.5"
  }
 },
 "nbformat": 4,
 "nbformat_minor": 4
}
