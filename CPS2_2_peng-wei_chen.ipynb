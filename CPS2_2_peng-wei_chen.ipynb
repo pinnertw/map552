{
 "cells": [
  {
   "cell_type": "markdown",
   "metadata": {},
   "source": [
    "# Computer Problem Set 2.2\n",
    "## Girsanov Theorem"
   ]
  },
  {
   "cell_type": "markdown",
   "metadata": {},
   "source": [
    "### Question 1"
   ]
  },
  {
   "cell_type": "markdown",
   "metadata": {},
   "source": [
    "We use the Monte-Carlo method with\n",
    "\n",
    "$$\n",
    "\\Delta_0 = \\mathbb{P}[S_T \\ge K]\n",
    "$$\n",
    "where $S$ has the dynamique $dS_t = S_t(rdt + \\sigma dB_t)$"
   ]
  },
  {
   "cell_type": "markdown",
   "metadata": {},
   "source": [
    "We have $S_T = S_0e^{(r-\\frac{\\sigma^2}{2})T + \\sigma B_T}$"
   ]
  },
  {
   "cell_type": "code",
   "execution_count": 1,
   "metadata": {},
   "outputs": [],
   "source": [
    "import numpy as np\n",
    "import matplotlib.pyplot as plt\n",
    "\n",
    "# Simulation of Delta0 by (1)\n",
    "def Delta0_1(r, sigma, S0, T, K, M, n=1):\n",
    "    '''\n",
    "    We simply simulate the B_T, then S_T = S_0 * exp(...)\n",
    "    '''\n",
    "    DeltaT = T / n\n",
    "    # Simulate Brownian motion\n",
    "    samples_brownian = np.random.normal(0.0, np.sqrt(DeltaT), size=(M, n + 1))\n",
    "    samples_brownian[:, 0] = 0\n",
    "    samples_brownian = samples_brownian.cumsum(axis=1)\n",
    "    \n",
    "    # Then we get S_T\n",
    "    S_T = S0 * np.exp((r - sigma ** 2 / 2) * T + sigma * samples_brownian[:, -1])\n",
    "    \n",
    "    # We return the probability of S_T being greater than K\n",
    "    return np.mean(S_T > K)"
   ]
  },
  {
   "cell_type": "code",
   "execution_count": 2,
   "metadata": {},
   "outputs": [
    {
     "data": {
      "text/plain": [
       "0.174"
      ]
     },
     "execution_count": 2,
     "metadata": {},
     "output_type": "execute_result"
    }
   ],
   "source": [
    "r = 0.02\n",
    "sigma = 0.4\n",
    "S0 = 100\n",
    "T = 2\n",
    "K = 150\n",
    "M = 1000\n",
    "n = 10\n",
    "Delta0_1(r, sigma, S0, T, K, M, n)"
   ]
  },
  {
   "cell_type": "markdown",
   "metadata": {},
   "source": [
    "### Question 2"
   ]
  },
  {
   "cell_type": "markdown",
   "metadata": {},
   "source": [
    "We have $S_T = S_0e^{(r-\\frac{\\sigma^2}{2})T + \\sigma B_T}$"
   ]
  },
  {
   "cell_type": "code",
   "execution_count": 3,
   "metadata": {},
   "outputs": [],
   "source": [
    "def Delta0_2(r, sigma, S0, T, K, M, theta, n=1):\n",
    "    '''\n",
    "    We simply simulate the B_T under Q, then S_T = S_0 * exp(...)\n",
    "    '''\n",
    "    DeltaT = T / n\n",
    "    # Simulate Brownian motion\n",
    "    samples_brownian = np.random.normal(0.0, np.sqrt(DeltaT), size=(M, n + 1))\n",
    "    samples_brownian[:, 0] = 0\n",
    "    samples_brownian = samples_brownian.cumsum(axis=1)\n",
    "    \n",
    "    # Under Q, B_T is equal to a brownian motion plus theta*T\n",
    "    B_T = samples_brownian[:, -1] + theta * T\n",
    "    \n",
    "    # Then we get S_T\n",
    "    S_T = S0 * np.exp((r - sigma ** 2 / 2) * T + sigma * B_T)\n",
    "    \n",
    "    # We return the probability of S_T being greater than K\n",
    "    # Divided by the factor Z^theta\n",
    "    Ztheta = np.exp(theta * B_T - theta ** 2 * T / 2)\n",
    "    return np.mean((S_T > K) / Ztheta)"
   ]
  },
  {
   "cell_type": "code",
   "execution_count": 4,
   "metadata": {},
   "outputs": [
    {
     "data": {
      "text/plain": [
       "0.18024924110085247"
      ]
     },
     "execution_count": 4,
     "metadata": {},
     "output_type": "execute_result"
    }
   ],
   "source": [
    "theta = 0.5\n",
    "Delta0_2(r, sigma, S0, T, K, M, theta, n)"
   ]
  },
  {
   "cell_type": "markdown",
   "metadata": {},
   "source": [
    "### Question 3"
   ]
  },
  {
   "cell_type": "markdown",
   "metadata": {},
   "source": [
    "We simply plot the graph for $\\theta$ in $[-3, 3]$ with step = 0.1, $M = 1000$.\n",
    "\n",
    "For the theorical value, we write :\n",
    "$$\n",
    "\\mathbb{P}(S_0e^{(r - \\frac{\\sigma^2}{2})T + \\sigma B_T} \\ge K)\n",
    "$$\n",
    "$$\n",
    "= \\mathbb{P}(B_T \\ge \\frac{ln(\\frac{K}{S_0}) - (r - \\frac{\\sigma^2}{2})T}{\\sigma})\n",
    "$$\n",
    "with $B_T \\sim \\mathcal{N}(0, T)$"
   ]
  },
  {
   "cell_type": "code",
   "execution_count": 5,
   "metadata": {},
   "outputs": [],
   "source": [
    "from scipy import stats\n",
    "theorical_value = 1 - stats.norm().cdf((np.log(K/S0) - (r - sigma ** 2 / 2) * T)/ sigma / np.sqrt(T))"
   ]
  },
  {
   "cell_type": "code",
   "execution_count": 6,
   "metadata": {},
   "outputs": [
    {
     "data": {
      "text/plain": [
       "<matplotlib.legend.Legend at 0x7f0f0a9bbee0>"
      ]
     },
     "execution_count": 6,
     "metadata": {},
     "output_type": "execute_result"
    },
    {
     "data": {
      "image/png": "[encoded data removed]",
      "text/plain": [
       "<Figure size 432x288 with 1 Axes>"
      ]
     },
     "metadata": {
      "needs_background": "light"
     },
     "output_type": "display_data"
    }
   ],
   "source": [
    "expectations = []\n",
    "for theta in np.linspace(-3, 3, 61, endpoint=True):\n",
    "    expectations.append(Delta0_2(r, sigma, S0, T, K, M, theta, n))\n",
    "\n",
    "plt.plot(np.linspace(-3, 3, 61, endpoint=True), expectations, label=\"Expectation\")\n",
    "plt.hlines(theorical_value, xmin=-3, xmax=3, label=\"Theorical value\")\n",
    "plt.xlabel(\"Theta\")\n",
    "plt.ylabel(\"Expectation\")\n",
    "plt.title(\"The expectation of Delta_0 in function of theta\")\n",
    "plt.legend(loc=\"best\")"
   ]
  },
  {
   "cell_type": "markdown",
   "metadata": {},
   "source": [
    "The fact that we change the probability measure introduce the effect of importance sampling. However, if we have $\\theta$ smaller, then the evenement $S_T > K$ can not even be detected. We thus have an expectation 0 at the end.\n",
    "\n",
    "At the same time, with $\\theta$ bigger, we have $S_T > K$ almost every time and we can not count on this expectation. We get the variance of $S^\\theta$ for the source of the error."
   ]
  },
  {
   "cell_type": "markdown",
   "metadata": {},
   "source": [
    "### Question 4"
   ]
  },
  {
   "cell_type": "markdown",
   "metadata": {},
   "source": [
    "We simply reuse the code in Question 3., where we divide by $Z^{2\\theta}$ at the end, then minus $\\Delta_0^2$"
   ]
  },
  {
   "cell_type": "code",
   "execution_count": 7,
   "metadata": {},
   "outputs": [],
   "source": [
    "def V_theta(r, sigma, S0, T, K, M, theta, n=1):\n",
    "    '''\n",
    "    We simply simulate the B_T under Q, then S_T = S_0 * exp(...)\n",
    "    '''\n",
    "    DeltaT = T / n\n",
    "    # Simulate Brownian motion\n",
    "    samples_brownian = np.random.normal(0.0, np.sqrt(DeltaT), size=(M, n + 1))\n",
    "    samples_brownian[:, 0] = 0\n",
    "    samples_brownian = samples_brownian.cumsum(axis=1)\n",
    "    \n",
    "    # Under Q, B_T is equal to a brownian motion plus theta*T\n",
    "    B_T = samples_brownian[:, -1] + theta * T\n",
    "    \n",
    "    # Then we get S_T\n",
    "    S_T = S0 * np.exp((r - sigma ** 2 / 2) * T + sigma * B_T)\n",
    "    \n",
    "    # We return the probability of S_T being greater than K\n",
    "    # Divided by the factor Z^theta\n",
    "    Ztheta = np.exp(theta * B_T - theta ** 2 * T / 2)\n",
    "    return np.var((S_T > K) / Ztheta)"
   ]
  },
  {
   "cell_type": "markdown",
   "metadata": {},
   "source": [
    "### Question 5"
   ]
  },
  {
   "cell_type": "code",
   "execution_count": 8,
   "metadata": {},
   "outputs": [
    {
     "data": {
      "image/png": "[encoded data removed]",
      "text/plain": [
       "<Figure size 432x288 with 1 Axes>"
      ]
     },
     "metadata": {
      "needs_background": "light"
     },
     "output_type": "display_data"
    }
   ],
   "source": [
    "def Question5(n):\n",
    "    for M in [10, 100, 500, 1000]:\n",
    "        expectations = []\n",
    "        for theta in np.linspace(-3, 3, 61, endpoint=True):\n",
    "            expectations.append(V_theta(r, sigma, S0, T, K, M, theta, n))\n",
    "\n",
    "        plt.plot(np.linspace(-3, 3, 61, endpoint=True), expectations, label=\"M = {}\".format(M))\n",
    "    plt.xlabel(\"Theta\")\n",
    "    plt.ylabel(\"Variance\")\n",
    "    plt.title(\"The Variance of Delta_0 in function of theta with different M, n = {}\".format(n))\n",
    "    plt.ylim(-1.5, 10)\n",
    "    plt.legend(loc=\"best\")\n",
    "Question5(n)"
   ]
  },
  {
   "cell_type": "markdown",
   "metadata": {},
   "source": [
    "This is another illustration on the effect of changing the probability measure. We have $V^\\theta$ tends to 0 with $\\theta$ smaller (Every time we get 0). At the same time, when we have more sample (M greater), there will be the chance that the evenement $S_T > K$ be observed. The variance is then very big since $Z^\\theta$ is very small.\n",
    "\n",
    "The zone $[0, 2]$ is stable.\n",
    "\n",
    "For $\\theta > 2$, it's the variance of $Z^\\theta$ himself who causes the great variance of $V^\\theta$."
   ]
  }
 ],
 "metadata": {
  "kernelspec": {
   "display_name": "Python 3",
   "language": "python",
   "name": "python3"
  },
  "language_info": {
   "codemirror_mode": {
    "name": "ipython",
    "version": 3
   },
   "file_extension": ".py",
   "mimetype": "text/x-python",
   "name": "python",
   "nbconvert_exporter": "python",
   "pygments_lexer": "ipython3",
   "version": "3.8.3"
  }
 },
 "nbformat": 4,
 "nbformat_minor": 4
}
